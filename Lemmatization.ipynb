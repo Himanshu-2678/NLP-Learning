{
 "cells": [
  {
   "cell_type": "markdown",
   "id": "b344e905",
   "metadata": {},
   "source": [
    "## Lemmatization \n",
    "It reduces the word to its \"Lemma\" -> to its dictionary form that actually exists in the language.\n",
    "\n",
    "NLTK provides WordNetLemmatizer class which is a wrapper around WordNet corpus. It uses \"morphy()\" function to the WordNet CorpusReader class to find a lemma.\n",
    "\n",
    "usecases -> Q&A, Chatbots, Text summarization, etc"
   ]
  },
  {
   "cell_type": "code",
   "execution_count": 4,
   "id": "53e739b4",
   "metadata": {},
   "outputs": [
    {
     "name": "stderr",
     "output_type": "stream",
     "text": [
      "[nltk_data] Downloading package wordnet to\n",
      "[nltk_data]     C:\\Users\\himan\\AppData\\Roaming\\nltk_data...\n"
     ]
    },
    {
     "data": {
      "text/plain": [
       "True"
      ]
     },
     "execution_count": 4,
     "metadata": {},
     "output_type": "execute_result"
    }
   ],
   "source": [
    "import nltk\n",
    "nltk.download('wordnet')"
   ]
  },
  {
   "cell_type": "code",
   "execution_count": 23,
   "id": "5aea1052",
   "metadata": {},
   "outputs": [],
   "source": [
    "words = [\"go\", \"going\", \"gone\", \"eat\", \"eating\", \"better\", \"programming\", \"running\", \"ran\", \"history\", \"sporting\"]"
   ]
  },
  {
   "cell_type": "code",
   "execution_count": 24,
   "id": "5d68d510",
   "metadata": {},
   "outputs": [
    {
     "name": "stdout",
     "output_type": "stream",
     "text": [
      "['go', 'go', 'go', 'eat', 'eat', 'better', 'program', 'run', 'run', 'history', 'sport']\n"
     ]
    }
   ],
   "source": [
    "from nltk.stem import WordNetLemmatizer\n",
    "lemma = WordNetLemmatizer()\n",
    "\n",
    "\"\"\"\n",
    "It uses 'pos' parameter to specify the part of speech.\n",
    "noun -> 'n'\n",
    "verb -> 'v'\n",
    "adjective -> 'a'\n",
    "adverb -> 'r'\n",
    "\"\"\"\n",
    "\n",
    "print([lemma.lemmatize(word, pos= \"v\") for word in words])"
   ]
  },
  {
   "cell_type": "code",
   "execution_count": null,
   "id": "db0ebaa4",
   "metadata": {},
   "outputs": [],
   "source": []
  }
 ],
 "metadata": {
  "kernelspec": {
   "display_name": "Python 3",
   "language": "python",
   "name": "python3"
  },
  "language_info": {
   "codemirror_mode": {
    "name": "ipython",
    "version": 3
   },
   "file_extension": ".py",
   "mimetype": "text/x-python",
   "name": "python",
   "nbconvert_exporter": "python",
   "pygments_lexer": "ipython3",
   "version": "3.11.9"
  }
 },
 "nbformat": 4,
 "nbformat_minor": 5
}
