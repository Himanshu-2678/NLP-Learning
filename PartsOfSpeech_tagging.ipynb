{
 "cells": [
  {
   "cell_type": "markdown",
   "id": "bbaba441",
   "metadata": {},
   "source": [
    "### Parts of Speech Tags"
   ]
  },
  {
   "cell_type": "code",
   "execution_count": 4,
   "id": "0d747301",
   "metadata": {},
   "outputs": [],
   "source": [
    "corpus = \"\"\"\n",
    "        Four score and seven years ago our fathers brought forth on this continent a new nation, conceived in liberty, and dedicated to the proposition that all men are created equal. That founding principle, rooted in the very fabric of our independence, was not simply a declaration for that time alone, but a promise meant to endure for generations. Today, as we stand upon this sacred ground, we are called to remember those who gave their last full measure of devotion, so that the nation might continue to live true to its original vision.\n",
    "        Now we are engaged in a great civil war, testing whether that nation, or any nation so conceived and so dedicated, can long endure. This war is not merely a clash of armies but a contest of ideals, determining whether liberty and equality shall remain cornerstones of human society or fall beneath the weight of division and oppression. We stand here on the battlefield of Gettysburg, a place where thousands of brave souls gave their lives. They fought not only for victory in battle, but for the survival of a nation committed to freedom.\n",
    "        It is altogether fitting and proper that we should do this. Yet, in a larger sense, we cannot dedicate, we cannot consecrate, we cannot hallow this ground. The brave men, living and dead, who struggled here, have consecrated it far above our poor power to add or detract. Their sacrifice speaks louder than any words we can utter. It reminds us that the cost of liberty is high, but it is always worth paying.\n",
    "        The world will little note, nor long remember what we say here, but it can never forget what they did here. It is for us, the living, rather, to be dedicated to the unfinished work which they who fought here have thus far so nobly advanced. The duty is ours now — to take increased devotion to that cause for which they gave the last full measure of devotion.\n",
    "        That from these honored dead we take increased devotion to the great task remaining before us — that this nation, under God, shall have a new birth of freedom — and that government of the people, by the people, for the people, shall not perish from the earth\n",
    "\n",
    "\"\"\""
   ]
  },
  {
   "cell_type": "code",
   "execution_count": 11,
   "id": "c426b03c",
   "metadata": {},
   "outputs": [
    {
     "name": "stderr",
     "output_type": "stream",
     "text": [
      "[nltk_data] Downloading package punkt to\n",
      "[nltk_data]     C:\\Users\\himan\\AppData\\Roaming\\nltk_data...\n",
      "[nltk_data]   Package punkt is already up-to-date!\n",
      "[nltk_data] Downloading package averaged_perceptron_tagger to\n",
      "[nltk_data]     C:\\Users\\himan\\AppData\\Roaming\\nltk_data...\n",
      "[nltk_data]   Package averaged_perceptron_tagger is already up-to-\n",
      "[nltk_data]       date!\n",
      "[nltk_data] Downloading package averaged_perceptron_tagger_eng to\n",
      "[nltk_data]     C:\\Users\\himan\\AppData\\Roaming\\nltk_data...\n",
      "[nltk_data]   Unzipping taggers\\averaged_perceptron_tagger_eng.zip.\n"
     ]
    },
    {
     "data": {
      "text/plain": [
       "True"
      ]
     },
     "execution_count": 11,
     "metadata": {},
     "output_type": "execute_result"
    }
   ],
   "source": [
    "import nltk\n",
    "\n",
    "nltk.download(\"punkt\")                       \n",
    "nltk.download(\"averaged_perceptron_tagger\")  \n",
    "nltk.download(\"averaged_perceptron_tagger_eng\")  # (needed for newer versions too)\n"
   ]
  },
  {
   "cell_type": "code",
   "execution_count": 12,
   "id": "586dee38",
   "metadata": {},
   "outputs": [],
   "source": [
    "## tokenizing the corpus into sentences\n",
    "from nltk.tokenize import sent_tokenize\n",
    "sentences = sent_tokenize(corpus)"
   ]
  },
  {
   "cell_type": "code",
   "execution_count": 13,
   "id": "f1c3efb1",
   "metadata": {},
   "outputs": [
    {
     "name": "stdout",
     "output_type": "stream",
     "text": [
      "\n",
      "        four score and seven years ago our fathers brought forth on this continent a new nation, conceived in liberty, and dedicated to the proposition that all men are created equal.\n",
      "that founding principle, rooted in the very fabric of our independence, was not simply a declaration for that time alone, but a promise meant to endure for generations.\n",
      "today, as we stand upon this sacred ground, we are called to remember those who gave their last full measure of devotion, so that the nation might continue to live true to its original vision.\n",
      "now we are engaged in a great civil war, testing whether that nation, or any nation so conceived and so dedicated, can long endure.\n",
      "this war is not merely a clash of armies but a contest of ideals, determining whether liberty and equality shall remain cornerstones of human society or fall beneath the weight of division and oppression.\n",
      "we stand here on the battlefield of gettysburg, a place where thousands of brave souls gave their lives.\n",
      "they fought not only for victory in battle, but for the survival of a nation committed to freedom.\n",
      "it is altogether fitting and proper that we should do this.\n",
      "yet, in a larger sense, we cannot dedicate, we cannot consecrate, we cannot hallow this ground.\n",
      "the brave men, living and dead, who struggled here, have consecrated it far above our poor power to add or detract.\n",
      "their sacrifice speaks louder than any words we can utter.\n",
      "it reminds us that the cost of liberty is high, but it is always worth paying.\n",
      "the world will little note, nor long remember what we say here, but it can never forget what they did here.\n",
      "it is for us, the living, rather, to be dedicated to the unfinished work which they who fought here have thus far so nobly advanced.\n",
      "the duty is ours now — to take increased devotion to that cause for which they gave the last full measure of devotion.\n",
      "that from these honored dead we take increased devotion to the great task remaining before us — that this nation, under god, shall have a new birth of freedom — and that government of the people, by the people, for the people, shall not perish from the earth\n"
     ]
    }
   ],
   "source": [
    "from nltk.stem import SnowballStemmer\n",
    "stemmed = SnowballStemmer(language=\"english\")\n",
    "\n",
    "for word in sentences:\n",
    "    print(f\"{stemmed.stem(word)}\")"
   ]
  },
  {
   "cell_type": "code",
   "execution_count": 14,
   "id": "4c6ff4bb",
   "metadata": {},
   "outputs": [
    {
     "name": "stdout",
     "output_type": "stream",
     "text": [
      "[('Four', 'CD'), ('score', 'NN'), ('and', 'CC'), ('seven', 'CD'), ('years', 'NNS'), ('ago', 'RB'), ('our', 'PRP$'), ('fathers', 'NNS'), ('brought', 'VBN'), ('forth', 'RB'), ('on', 'IN'), ('this', 'DT'), ('continent', 'NN'), ('a', 'DT'), ('new', 'JJ'), ('nation', 'NN'), (',', ','), ('conceived', 'VBN'), ('in', 'IN'), ('liberty', 'NN'), (',', ','), ('and', 'CC'), ('dedicated', 'VBD'), ('to', 'TO'), ('the', 'DT'), ('proposition', 'NN'), ('that', 'IN'), ('all', 'DT'), ('men', 'NNS'), ('are', 'VBP'), ('created', 'VBN'), ('equal', 'JJ'), ('.', '.')]\n",
      "[('That', 'DT'), ('founding', 'VBG'), ('principle', 'NN'), (',', ','), ('rooted', 'VBN'), ('in', 'IN'), ('the', 'DT'), ('very', 'RB'), ('fabric', 'NN'), ('of', 'IN'), ('our', 'PRP$'), ('independence', 'NN'), (',', ','), ('was', 'VBD'), ('not', 'RB'), ('simply', 'RB'), ('a', 'DT'), ('declaration', 'NN'), ('for', 'IN'), ('that', 'DT'), ('time', 'NN'), ('alone', 'RB'), (',', ','), ('but', 'CC'), ('a', 'DT'), ('promise', 'NN'), ('meant', 'NN'), ('to', 'TO'), ('endure', 'VB'), ('for', 'IN'), ('generations', 'NNS'), ('.', '.')]\n",
      "[('Today', 'NN'), (',', ','), ('as', 'IN'), ('we', 'PRP'), ('stand', 'VBP'), ('upon', 'IN'), ('this', 'DT'), ('sacred', 'JJ'), ('ground', 'NN'), (',', ','), ('we', 'PRP'), ('are', 'VBP'), ('called', 'VBN'), ('to', 'TO'), ('remember', 'VB'), ('those', 'DT'), ('who', 'WP'), ('gave', 'VBD'), ('their', 'PRP$'), ('last', 'JJ'), ('full', 'JJ'), ('measure', 'NN'), ('of', 'IN'), ('devotion', 'NN'), (',', ','), ('so', 'IN'), ('that', 'IN'), ('the', 'DT'), ('nation', 'NN'), ('might', 'MD'), ('continue', 'VB'), ('to', 'TO'), ('live', 'VB'), ('true', 'JJ'), ('to', 'TO'), ('its', 'PRP$'), ('original', 'JJ'), ('vision', 'NN'), ('.', '.')]\n",
      "[('Now', 'RB'), ('we', 'PRP'), ('are', 'VBP'), ('engaged', 'VBN'), ('in', 'IN'), ('a', 'DT'), ('great', 'JJ'), ('civil', 'JJ'), ('war', 'NN'), (',', ','), ('testing', 'VBG'), ('whether', 'IN'), ('that', 'DT'), ('nation', 'NN'), (',', ','), ('or', 'CC'), ('any', 'DT'), ('nation', 'NN'), ('so', 'RB'), ('conceived', 'JJ'), ('and', 'CC'), ('so', 'RB'), ('dedicated', 'JJ'), (',', ','), ('can', 'MD'), ('long', 'VB'), ('endure', 'NN'), ('.', '.')]\n",
      "[('This', 'DT'), ('war', 'NN'), ('is', 'VBZ'), ('not', 'RB'), ('merely', 'RB'), ('a', 'DT'), ('clash', 'NN'), ('of', 'IN'), ('armies', 'NNS'), ('but', 'CC'), ('a', 'DT'), ('contest', 'NN'), ('of', 'IN'), ('ideals', 'NNS'), (',', ','), ('determining', 'VBG'), ('whether', 'IN'), ('liberty', 'NN'), ('and', 'CC'), ('equality', 'NN'), ('shall', 'MD'), ('remain', 'VB'), ('cornerstones', 'NNS'), ('of', 'IN'), ('human', 'JJ'), ('society', 'NN'), ('or', 'CC'), ('fall', 'NN'), ('beneath', 'IN'), ('the', 'DT'), ('weight', 'NN'), ('of', 'IN'), ('division', 'NN'), ('and', 'CC'), ('oppression', 'NN'), ('.', '.')]\n",
      "[('We', 'PRP'), ('stand', 'VBP'), ('here', 'RB'), ('on', 'IN'), ('the', 'DT'), ('battlefield', 'NN'), ('of', 'IN'), ('Gettysburg', 'NNP'), (',', ','), ('a', 'DT'), ('place', 'NN'), ('where', 'WRB'), ('thousands', 'NNS'), ('of', 'IN'), ('brave', 'JJ'), ('souls', 'NNS'), ('gave', 'VBD'), ('their', 'PRP$'), ('lives', 'NNS'), ('.', '.')]\n",
      "[('They', 'PRP'), ('fought', 'VBD'), ('not', 'RB'), ('only', 'RB'), ('for', 'IN'), ('victory', 'NN'), ('in', 'IN'), ('battle', 'NN'), (',', ','), ('but', 'CC'), ('for', 'IN'), ('the', 'DT'), ('survival', 'NN'), ('of', 'IN'), ('a', 'DT'), ('nation', 'NN'), ('committed', 'VBN'), ('to', 'TO'), ('freedom', 'VB'), ('.', '.')]\n",
      "[('It', 'PRP'), ('is', 'VBZ'), ('altogether', 'RB'), ('fitting', 'JJ'), ('and', 'CC'), ('proper', 'JJ'), ('that', 'IN'), ('we', 'PRP'), ('should', 'MD'), ('do', 'VB'), ('this', 'DT'), ('.', '.')]\n",
      "[('Yet', 'RB'), (',', ','), ('in', 'IN'), ('a', 'DT'), ('larger', 'JJR'), ('sense', 'NN'), (',', ','), ('we', 'PRP'), ('can', 'MD'), ('not', 'RB'), ('dedicate', 'VB'), (',', ','), ('we', 'PRP'), ('can', 'MD'), ('not', 'RB'), ('consecrate', 'VB'), (',', ','), ('we', 'PRP'), ('can', 'MD'), ('not', 'RB'), ('hallow', 'VB'), ('this', 'DT'), ('ground', 'NN'), ('.', '.')]\n",
      "[('The', 'DT'), ('brave', 'NN'), ('men', 'NNS'), (',', ','), ('living', 'NN'), ('and', 'CC'), ('dead', 'JJ'), (',', ','), ('who', 'WP'), ('struggled', 'VBD'), ('here', 'RB'), (',', ','), ('have', 'VBP'), ('consecrated', 'VBN'), ('it', 'PRP'), ('far', 'RB'), ('above', 'IN'), ('our', 'PRP$'), ('poor', 'JJ'), ('power', 'NN'), ('to', 'TO'), ('add', 'VB'), ('or', 'CC'), ('detract', 'VB'), ('.', '.')]\n",
      "[('Their', 'PRP$'), ('sacrifice', 'NN'), ('speaks', 'NNS'), ('louder', 'RBR'), ('than', 'IN'), ('any', 'DT'), ('words', 'NNS'), ('we', 'PRP'), ('can', 'MD'), ('utter', 'VB'), ('.', '.')]\n",
      "[('It', 'PRP'), ('reminds', 'VBZ'), ('us', 'PRP'), ('that', 'IN'), ('the', 'DT'), ('cost', 'NN'), ('of', 'IN'), ('liberty', 'NN'), ('is', 'VBZ'), ('high', 'JJ'), (',', ','), ('but', 'CC'), ('it', 'PRP'), ('is', 'VBZ'), ('always', 'RB'), ('worth', 'JJ'), ('paying', 'VBG'), ('.', '.')]\n",
      "[('The', 'DT'), ('world', 'NN'), ('will', 'MD'), ('little', 'VB'), ('note', 'NN'), (',', ','), ('nor', 'CC'), ('long', 'JJ'), ('remember', 'VB'), ('what', 'WP'), ('we', 'PRP'), ('say', 'VBP'), ('here', 'RB'), (',', ','), ('but', 'CC'), ('it', 'PRP'), ('can', 'MD'), ('never', 'RB'), ('forget', 'VB'), ('what', 'WP'), ('they', 'PRP'), ('did', 'VBD'), ('here', 'RB'), ('.', '.')]\n",
      "[('It', 'PRP'), ('is', 'VBZ'), ('for', 'IN'), ('us', 'PRP'), (',', ','), ('the', 'DT'), ('living', 'NN'), (',', ','), ('rather', 'RB'), (',', ','), ('to', 'TO'), ('be', 'VB'), ('dedicated', 'VBN'), ('to', 'TO'), ('the', 'DT'), ('unfinished', 'JJ'), ('work', 'NN'), ('which', 'WDT'), ('they', 'PRP'), ('who', 'WP'), ('fought', 'VBP'), ('here', 'RB'), ('have', 'VBP'), ('thus', 'RB'), ('far', 'RB'), ('so', 'RB'), ('nobly', 'RB'), ('advanced', 'JJ'), ('.', '.')]\n",
      "[('The', 'DT'), ('duty', 'NN'), ('is', 'VBZ'), ('ours', 'RB'), ('now', 'RB'), ('—', 'VBZ'), ('to', 'TO'), ('take', 'VB'), ('increased', 'JJ'), ('devotion', 'NN'), ('to', 'TO'), ('that', 'DT'), ('cause', 'NN'), ('for', 'IN'), ('which', 'WDT'), ('they', 'PRP'), ('gave', 'VBD'), ('the', 'DT'), ('last', 'JJ'), ('full', 'JJ'), ('measure', 'NN'), ('of', 'IN'), ('devotion', 'NN'), ('.', '.')]\n",
      "[('That', 'DT'), ('from', 'IN'), ('these', 'DT'), ('honored', 'VBN'), ('dead', 'NN'), ('we', 'PRP'), ('take', 'VBP'), ('increased', 'JJ'), ('devotion', 'NN'), ('to', 'TO'), ('the', 'DT'), ('great', 'JJ'), ('task', 'NN'), ('remaining', 'VBG'), ('before', 'IN'), ('us', 'PRP'), ('—', 'VBP'), ('that', 'IN'), ('this', 'DT'), ('nation', 'NN'), (',', ','), ('under', 'IN'), ('God', 'NNP'), (',', ','), ('shall', 'MD'), ('have', 'VB'), ('a', 'DT'), ('new', 'JJ'), ('birth', 'NN'), ('of', 'IN'), ('freedom', 'NN'), ('—', 'NN'), ('and', 'CC'), ('that', 'DT'), ('government', 'NN'), ('of', 'IN'), ('the', 'DT'), ('people', 'NNS'), (',', ','), ('by', 'IN'), ('the', 'DT'), ('people', 'NNS'), (',', ','), ('for', 'IN'), ('the', 'DT'), ('people', 'NNS'), (',', ','), ('shall', 'MD'), ('not', 'RB'), ('perish', 'VB'), ('from', 'IN'), ('the', 'DT'), ('earth', 'NN')]\n"
     ]
    }
   ],
   "source": [
    "## applying POS tagging\n",
    "for i in range(len(sentences)):\n",
    "    words = nltk.word_tokenize(sentences[i]) ## to get the list of words in each sentence\n",
    "    pos_tags = nltk.pos_tag(words) ## gives a list of tuples (word, pos_tag)\n",
    "    print(pos_tags)"
   ]
  },
  {
   "cell_type": "code",
   "execution_count": null,
   "id": "9d0d9c7c",
   "metadata": {},
   "outputs": [],
   "source": []
  }
 ],
 "metadata": {
  "kernelspec": {
   "display_name": "Python 3",
   "language": "python",
   "name": "python3"
  },
  "language_info": {
   "codemirror_mode": {
    "name": "ipython",
    "version": 3
   },
   "file_extension": ".py",
   "mimetype": "text/x-python",
   "name": "python",
   "nbconvert_exporter": "python",
   "pygments_lexer": "ipython3",
   "version": "3.11.9"
  }
 },
 "nbformat": 4,
 "nbformat_minor": 5
}
